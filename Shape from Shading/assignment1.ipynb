{
 "cells": [
  {
   "cell_type": "markdown",
   "metadata": {},
   "source": [
    "# Common imports"
   ]
  },
  {
   "cell_type": "code",
   "execution_count": null,
   "metadata": {},
   "outputs": [],
   "source": [
    "%matplotlib notebook\n",
    "import os\n",
    "import sys\n",
    "import glob\n",
    "import re\n",
    "import numpy as np\n",
    "import matplotlib\n",
    "import matplotlib.pyplot as plt\n",
    "from mpl_toolkits.mplot3d import Axes3D\n",
    "from PIL import Image\n",
    "'''%matplotlib notebook'''"
   ]
  },
  {
   "cell_type": "code",
   "execution_count": null,
   "metadata": {
    "collapsed": true
   },
   "outputs": [],
   "source": []
  },
  {
   "cell_type": "markdown",
   "metadata": {},
   "source": [
    "# Provided functions\n",
    "### Image loading and saving"
   ]
  },
  {
   "cell_type": "code",
   "execution_count": null,
   "metadata": {
    "collapsed": true
   },
   "outputs": [],
   "source": [
    "def LoadFaceImages(pathname, subject_name, num_images):\n",
    "    \"\"\"\n",
    "    Load the set of face images.  \n",
    "    The routine returns\n",
    "        ambimage: image illuminated under the ambient lighting\n",
    "        imarray: a 3-D array of images, h x w x Nimages\n",
    "        lightdirs: Nimages x 3 array of light source directions\n",
    "    \"\"\"\n",
    "\n",
    "    def load_image(fname):\n",
    "        return np.asarray(Image.open(fname))\n",
    "\n",
    "    def fname_to_ang(fname):\n",
    "        yale_name = os.path.basename(fname)\n",
    "        return int(yale_name[12:16]), int(yale_name[17:20])\n",
    "\n",
    "    def sph2cart(az, el, r):\n",
    "        rcos_theta = r * np.cos(el)\n",
    "        x = rcos_theta * np.cos(az)\n",
    "        y = rcos_theta * np.sin(az)\n",
    "        z = r * np.sin(el)\n",
    "        return x, y, z\n",
    "\n",
    "    ambimage = load_image(\n",
    "        os.path.join(pathname, subject_name + '_P00_Ambient.pgm'))\n",
    "    im_list = glob.glob(os.path.join(pathname, subject_name + '_P00A*.pgm'))\n",
    "    if num_images <= len(im_list):\n",
    "        im_sub_list = np.random.choice(im_list, num_images, replace=False)\n",
    "    else:\n",
    "        print(\n",
    "            'Total available images is less than specified.\\nProceeding with %d images.\\n'\n",
    "            % len(im_list))\n",
    "        im_sub_list = im_list\n",
    "    im_sub_list.sort()\n",
    "    imarray = np.stack([load_image(fname) for fname in im_sub_list], axis=-1)\n",
    "    Ang = np.array([fname_to_ang(fname) for fname in im_sub_list])\n",
    "\n",
    "    x, y, z = sph2cart(Ang[:, 0] / 180.0 * np.pi, Ang[:, 1] / 180.0 * np.pi, 1)\n",
    "    lightdirs = np.stack([y, z, x], axis=-1)\n",
    "    return ambimage, imarray, lightdirs"
   ]
  },
  {
   "cell_type": "code",
   "execution_count": null,
   "metadata": {
    "collapsed": true
   },
   "outputs": [],
   "source": [
    "def save_outputs(subject_name, albedo_image, surface_normals):\n",
    "    im = Image.fromarray((albedo_image*255).astype(np.uint8))\n",
    "    im.save(\"%s_albedo.jpg\" % subject_name)\n",
    "    im = Image.fromarray((surface_normals[:,:,0]*128+128).astype(np.uint8))\n",
    "    im.save(\"%s_normals_x.jpg\" % subject_name)\n",
    "    im = Image.fromarray((surface_normals[:,:,1]*128+128).astype(np.uint8))\n",
    "    im.save(\"%s_normals_y.jpg\" % subject_name)\n",
    "    im = Image.fromarray((surface_normals[:,:,2]*128+128).astype(np.uint8))\n",
    "    im.save(\"%s_normals_z.jpg\" % subject_name)"
   ]
  },
  {
   "cell_type": "markdown",
   "metadata": {},
   "source": [
    "### Plot the height map"
   ]
  },
  {
   "cell_type": "code",
   "execution_count": null,
   "metadata": {
    "collapsed": true
   },
   "outputs": [],
   "source": [
    "def set_aspect_equal_3d(ax):\n",
    "    \"\"\"https://stackoverflow.com/questions/13685386\"\"\"\n",
    "    \"\"\"Fix equal aspect bug for 3D plots.\"\"\"\n",
    "    xlim = ax.get_xlim3d()\n",
    "    ylim = ax.get_ylim3d()\n",
    "    zlim = ax.get_zlim3d()\n",
    "    from numpy import mean\n",
    "    xmean = mean(xlim)\n",
    "    ymean = mean(ylim)\n",
    "    zmean = mean(zlim)\n",
    "    plot_radius = max([\n",
    "        abs(lim - mean_)\n",
    "        for lims, mean_ in ((xlim, xmean), (ylim, ymean), (zlim, zmean))\n",
    "        for lim in lims\n",
    "    ])\n",
    "    ax.set_xlim3d([xmean - plot_radius, xmean + plot_radius])\n",
    "    ax.set_ylim3d([ymean - plot_radius, ymean + plot_radius])\n",
    "    ax.set_zlim3d([zmean - plot_radius, zmean + plot_radius])\n",
    "\n",
    "\n",
    "def display_output(albedo_image, height_map):\n",
    "    fig = plt.figure()\n",
    "    plt.imshow(albedo_image, cmap='gray')\n",
    "    plt.axis('off')\n",
    "    \n",
    "    fig = plt.figure(figsize=(10, 10))\n",
    "    ax = fig.gca(projection='3d')\n",
    "    ax.view_init(20, 20)\n",
    "    X = np.arange(albedo_image.shape[0])\n",
    "    Y = np.arange(albedo_image.shape[1])\n",
    "    X, Y = np.meshgrid(Y, X)\n",
    "    H = np.flipud(np.fliplr(height_map))\n",
    "    A = np.flipud(np.fliplr(albedo_image))\n",
    "    A = np.stack([A, A, A], axis=-1)\n",
    "    ax.xaxis.set_ticks([])\n",
    "    ax.xaxis.set_label_text('Z')\n",
    "    ax.yaxis.set_ticks([])\n",
    "    ax.yaxis.set_label_text('X')\n",
    "    ax.zaxis.set_ticks([])\n",
    "    ax.yaxis.set_label_text('Y')\n",
    "    surf = ax.plot_surface(\n",
    "        H, X, Y, cmap='gray', facecolors=A, linewidth=0, antialiased=False)\n",
    "    set_aspect_equal_3d(ax)"
   ]
  },
  {
   "cell_type": "markdown",
   "metadata": {},
   "source": [
    "### Plot the surface norms. "
   ]
  },
  {
   "cell_type": "code",
   "execution_count": null,
   "metadata": {
    "collapsed": true
   },
   "outputs": [],
   "source": [
    "def plot_surface_normals(surface_normals):\n",
    "    \"\"\"\n",
    "    surface_normals: h x w x 3 matrix.\n",
    "    \"\"\"\n",
    "    fig = plt.figure()\n",
    "    ax = plt.subplot(1, 3, 1)\n",
    "    ax.axis('off')\n",
    "    ax.set_title('X')\n",
    "    im = ax.imshow(surface_normals[:,:,0])\n",
    "    ax = plt.subplot(1, 3, 2)\n",
    "    ax.axis('off')\n",
    "    ax.set_title('Y')\n",
    "    im = ax.imshow(surface_normals[:,:,1])\n",
    "    ax = plt.subplot(1, 3, 3)\n",
    "    ax.axis('off')\n",
    "    ax.set_title('Z')\n",
    "    im = ax.imshow(surface_normals[:,:,2])"
   ]
  },
  {
   "cell_type": "markdown",
   "metadata": {},
   "source": [
    "# Your implementation"
   ]
  },
  {
   "cell_type": "code",
   "execution_count": null,
   "metadata": {
    "collapsed": true
   },
   "outputs": [],
   "source": [
    "def preprocess(ambimage, imarray):\n",
    "    \"\"\"\n",
    "    preprocess the data: \n",
    "        1. subtract ambient_image from each image in imarray.\n",
    "        2. make sure no pixel is less than zero.\n",
    "        3. rescale values in imarray to be between 0 and 1.\n",
    "    Inputs:\n",
    "            ambimage: h x w\n",
    "        imarray: h x w x Nimages\n",
    "    Outputs:\n",
    "        processed_imarray: h x w x Nimages\n",
    "    \"\"\"\n",
    "    imarray=imarray.astype('float')\n",
    "    for i in range(imarray.shape[2]):\n",
    "        a=imarray[:,:,i]-ambimage\n",
    "        \n",
    "        a[a<0]=0\n",
    "        \n",
    "        imarray[:,:,i]=a/np.amax(a)\n",
    "    \n",
    "    return imarray"
   ]
  },
  {
   "cell_type": "code",
   "execution_count": null,
   "metadata": {
    "collapsed": true
   },
   "outputs": [],
   "source": [
    "def photometric_stereo(imarray, light_dirs):\n",
    "    \"\"\"\n",
    "    Inputs:\n",
    "        imarray:  h x w x Nimages\n",
    "        light_dirs: Nimages x 3\n",
    "    Outputs:\n",
    "        albedo_image: h x w\n",
    "        surface_norms: h x w x 3\n",
    "    \"\"\"\n",
    "    shape=imarray.shape\n",
    "    Nimages=shape[2]\n",
    "    y=imarray.transpose(2,0,1).reshape(Nimages,-1)\n",
    "    \n",
    "    G=np.linalg.lstsq(light_dirs, y, rcond=None)[0]\n",
    "    \n",
    "    G=G.reshape((3,shape[0],shape[1])).transpose(1,2,0)\n",
    "    \n",
    "    albedo_image=np.sqrt(np.square(G[:,:,0])+np.square(G[:,:,1])+np.square(G[:,:,2]))\n",
    "    \n",
    "    for i in range(3):\n",
    "        G[:,:,i]=G[:,:,i]/albedo_image \n",
    "        \n",
    "    surface_normals=G\n",
    "    \n",
    "    \n",
    "    return albedo_image, surface_normals"
   ]
  },
  {
   "cell_type": "code",
   "execution_count": null,
   "metadata": {
    "collapsed": true
   },
   "outputs": [],
   "source": [
    "def get_surface(surface_normals, integration_method):\n",
    "    \"\"\"\n",
    "    Inputs:\n",
    "        surface_normals:h x w x 3\n",
    "        integration_method: string in ['average', 'column', 'row', 'random']\n",
    "    Outputs:\n",
    "        height_map: h x w\n",
    "    \"\"\"\n",
    "    \n",
    "    fx=surface_normals[:,:,0]/surface_normals[:,:,2]\n",
    "    fy=surface_normals[:,:,1]/surface_normals[:,:,2]\n",
    "    a=np.zeros(fx.shape)\n",
    "    if integration_method=='row':\n",
    "        a[0,:]=np.cumsum(fx,axis=1)[0,:]\n",
    "        height_map=np.cumsum(fy,axis=0)+ a\n",
    "    if integration_method=='column':\n",
    "        a[:,0]=np.cumsum(fy,axis=0)[:,0]\n",
    "        height_map=np.cumsum(fx,axis=1)+ a\n",
    "    if integration_method=='average':\n",
    "        height_map=(get_surface(surface_normals, 'row')+get_surface(surface_normals, 'column'))/2\n",
    "    if integration_method=='random':\n",
    "        height_map=np.zeros(fx.shape)\n",
    "        n=5\n",
    "        for iteration in range(n):\n",
    "            for x in range(fx.shape[0]):\n",
    "                for y in range(fx.shape[1]):  \n",
    "                    path=[1 for i in range(x+y+1)]\n",
    "                    index=np.random.choice(range(x+y+1),x,replace=False)\n",
    "                \n",
    "                    if len(index)>0:\n",
    "                        for i in index:\n",
    "                            path[i]=0\n",
    "                        \n",
    "                    height_map[x,y]+=sum([path[i]*fx[len(path[:i])-sum(path[:i])-1,sum(path[:i])-1]+(1-path[i])*fy[len(path[:i])-sum(path[:i])-1,sum(path[:i])-1] for i in range(len(path))])  \n",
    "                \n",
    "        height_map=height_map/n\n",
    "            \n",
    "    return height_map"
   ]
  },
  {
   "cell_type": "markdown",
   "metadata": {},
   "source": [
    "# Main function"
   ]
  },
  {
   "cell_type": "code",
   "execution_count": null,
   "metadata": {
    "scrolled": true
   },
   "outputs": [],
   "source": [
    "root_path = 'croppedyale/'\n",
    "subject_name = 'yaleB05'\n",
    "integration_method = 'row'\n",
    "save_flag = True\n",
    "\n",
    "full_path = '%s%s' % (root_path, subject_name)\n",
    "ambient_image, imarray, light_dirs = LoadFaceImages(full_path, subject_name,\n",
    "                                                    64)\n",
    "\n",
    "processed_imarray = preprocess(ambient_image, imarray)\n",
    "\n",
    "albedo_image, surface_normals = photometric_stereo(processed_imarray,\n",
    "                                                   light_dirs)\n",
    "import time\n",
    "tic = time.clock()\n",
    "\n",
    "height_map = get_surface(surface_normals, integration_method)\n",
    "\n",
    "toc = time.clock()\n",
    "print(toc - tic)\n",
    "\n",
    "if save_flag:\n",
    "    save_outputs(subject_name, albedo_image, surface_normals)\n"
   ]
  },
  {
   "cell_type": "code",
   "execution_count": null,
   "metadata": {},
   "outputs": [],
   "source": [
    "plot_surface_normals(surface_normals)"
   ]
  },
  {
   "cell_type": "code",
   "execution_count": null,
   "metadata": {},
   "outputs": [],
   "source": [
    "display_output(albedo_image, height_map)"
   ]
  },
  {
   "cell_type": "code",
   "execution_count": null,
   "metadata": {
    "collapsed": true
   },
   "outputs": [],
   "source": []
  },
  {
   "cell_type": "code",
   "execution_count": null,
   "metadata": {
    "collapsed": true
   },
   "outputs": [],
   "source": []
  }
 ],
 "metadata": {
  "kernelspec": {
   "display_name": "Python 3",
   "language": "python",
   "name": "python3"
  }
 },
 "nbformat": 4,
 "nbformat_minor": 2
}
